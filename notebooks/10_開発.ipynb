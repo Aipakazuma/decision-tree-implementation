{
 "cells": [
  {
   "cell_type": "code",
   "execution_count": 1,
   "metadata": {},
   "outputs": [],
   "source": [
    "import pandas as pd\n",
    "import numpy as np\n",
    "import matplotlib.pyplot as plt\n",
    "\n",
    "%matplotlib inline"
   ]
  },
  {
   "cell_type": "code",
   "execution_count": 2,
   "metadata": {},
   "outputs": [],
   "source": [
    "df = pd.read_csv('../data/data.csv')"
   ]
  },
  {
   "cell_type": "code",
   "execution_count": 3,
   "metadata": {},
   "outputs": [
    {
     "data": {
      "text/html": [
       "<div>\n",
       "<style scoped>\n",
       "    .dataframe tbody tr th:only-of-type {\n",
       "        vertical-align: middle;\n",
       "    }\n",
       "\n",
       "    .dataframe tbody tr th {\n",
       "        vertical-align: top;\n",
       "    }\n",
       "\n",
       "    .dataframe thead th {\n",
       "        text-align: right;\n",
       "    }\n",
       "</style>\n",
       "<table border=\"1\" class=\"dataframe\">\n",
       "  <thead>\n",
       "    <tr style=\"text-align: right;\">\n",
       "      <th></th>\n",
       "      <th>映画名</th>\n",
       "      <th>つまらない</th>\n",
       "      <th>隊長つまらない</th>\n",
       "      <th>ジャンル</th>\n",
       "      <th>主演</th>\n",
       "      <th>出演人数（記憶&amp;おおよそ）</th>\n",
       "    </tr>\n",
       "  </thead>\n",
       "  <tbody>\n",
       "    <tr>\n",
       "      <th>0</th>\n",
       "      <td>ジョーズ</td>\n",
       "      <td>0</td>\n",
       "      <td>0</td>\n",
       "      <td>アニマルパニック</td>\n",
       "      <td>サメ</td>\n",
       "      <td>100</td>\n",
       "    </tr>\n",
       "    <tr>\n",
       "      <th>1</th>\n",
       "      <td>ディープ・ブルー</td>\n",
       "      <td>0</td>\n",
       "      <td>0</td>\n",
       "      <td>アニマルパニック</td>\n",
       "      <td>サメ</td>\n",
       "      <td>20</td>\n",
       "    </tr>\n",
       "    <tr>\n",
       "      <th>2</th>\n",
       "      <td>パニック・マーケット</td>\n",
       "      <td>0</td>\n",
       "      <td>0</td>\n",
       "      <td>アニマルパニック</td>\n",
       "      <td>サメ</td>\n",
       "      <td>50</td>\n",
       "    </tr>\n",
       "    <tr>\n",
       "      <th>3</th>\n",
       "      <td>トリプルヘッド・ジョーズ</td>\n",
       "      <td>1</td>\n",
       "      <td>0</td>\n",
       "      <td>アニマルパニック</td>\n",
       "      <td>サメ</td>\n",
       "      <td>50</td>\n",
       "    </tr>\n",
       "    <tr>\n",
       "      <th>4</th>\n",
       "      <td>シャークネード</td>\n",
       "      <td>0</td>\n",
       "      <td>0</td>\n",
       "      <td>アニマルパニック</td>\n",
       "      <td>サメ</td>\n",
       "      <td>100</td>\n",
       "    </tr>\n",
       "  </tbody>\n",
       "</table>\n",
       "</div>"
      ],
      "text/plain": [
       "            映画名  つまらない  隊長つまらない      ジャンル  主演  出演人数（記憶&おおよそ）\n",
       "0          ジョーズ      0        0  アニマルパニック  サメ            100\n",
       "1      ディープ・ブルー      0        0  アニマルパニック  サメ             20\n",
       "2    パニック・マーケット      0        0  アニマルパニック  サメ             50\n",
       "3  トリプルヘッド・ジョーズ      1        0  アニマルパニック  サメ             50\n",
       "4       シャークネード      0        0  アニマルパニック  サメ            100"
      ]
     },
     "execution_count": 3,
     "metadata": {},
     "output_type": "execute_result"
    }
   ],
   "source": [
    "df.head()"
   ]
  },
  {
   "cell_type": "code",
   "execution_count": 4,
   "metadata": {},
   "outputs": [],
   "source": [
    "a = pd.get_dummies(df['ジャンル'])\n",
    "b = pd.get_dummies(df['主演'])\n",
    "_df = pd.concat([df, a, b], axis=1)"
   ]
  },
  {
   "cell_type": "code",
   "execution_count": 5,
   "metadata": {},
   "outputs": [
    {
     "data": {
      "text/html": [
       "<div>\n",
       "<style scoped>\n",
       "    .dataframe tbody tr th:only-of-type {\n",
       "        vertical-align: middle;\n",
       "    }\n",
       "\n",
       "    .dataframe tbody tr th {\n",
       "        vertical-align: top;\n",
       "    }\n",
       "\n",
       "    .dataframe thead th {\n",
       "        text-align: right;\n",
       "    }\n",
       "</style>\n",
       "<table border=\"1\" class=\"dataframe\">\n",
       "  <thead>\n",
       "    <tr style=\"text-align: right;\">\n",
       "      <th></th>\n",
       "      <th>映画名</th>\n",
       "      <th>つまらない</th>\n",
       "      <th>隊長つまらない</th>\n",
       "      <th>ジャンル</th>\n",
       "      <th>主演</th>\n",
       "      <th>出演人数（記憶&amp;おおよそ）</th>\n",
       "      <th>SF</th>\n",
       "      <th>アクション</th>\n",
       "      <th>アニマルパニック</th>\n",
       "      <th>ホラー</th>\n",
       "      <th>...</th>\n",
       "      <th>ドーナツ</th>\n",
       "      <th>ネコ</th>\n",
       "      <th>ヘビ</th>\n",
       "      <th>ワニ</th>\n",
       "      <th>人間</th>\n",
       "      <th>宇宙人</th>\n",
       "      <th>怪人</th>\n",
       "      <th>恐竜</th>\n",
       "      <th>悪魔</th>\n",
       "      <th>機械</th>\n",
       "    </tr>\n",
       "  </thead>\n",
       "  <tbody>\n",
       "    <tr>\n",
       "      <th>0</th>\n",
       "      <td>ジョーズ</td>\n",
       "      <td>0</td>\n",
       "      <td>0</td>\n",
       "      <td>アニマルパニック</td>\n",
       "      <td>サメ</td>\n",
       "      <td>100</td>\n",
       "      <td>0</td>\n",
       "      <td>0</td>\n",
       "      <td>1</td>\n",
       "      <td>0</td>\n",
       "      <td>...</td>\n",
       "      <td>0</td>\n",
       "      <td>0</td>\n",
       "      <td>0</td>\n",
       "      <td>0</td>\n",
       "      <td>0</td>\n",
       "      <td>0</td>\n",
       "      <td>0</td>\n",
       "      <td>0</td>\n",
       "      <td>0</td>\n",
       "      <td>0</td>\n",
       "    </tr>\n",
       "    <tr>\n",
       "      <th>1</th>\n",
       "      <td>ディープ・ブルー</td>\n",
       "      <td>0</td>\n",
       "      <td>0</td>\n",
       "      <td>アニマルパニック</td>\n",
       "      <td>サメ</td>\n",
       "      <td>20</td>\n",
       "      <td>0</td>\n",
       "      <td>0</td>\n",
       "      <td>1</td>\n",
       "      <td>0</td>\n",
       "      <td>...</td>\n",
       "      <td>0</td>\n",
       "      <td>0</td>\n",
       "      <td>0</td>\n",
       "      <td>0</td>\n",
       "      <td>0</td>\n",
       "      <td>0</td>\n",
       "      <td>0</td>\n",
       "      <td>0</td>\n",
       "      <td>0</td>\n",
       "      <td>0</td>\n",
       "    </tr>\n",
       "    <tr>\n",
       "      <th>2</th>\n",
       "      <td>パニック・マーケット</td>\n",
       "      <td>0</td>\n",
       "      <td>0</td>\n",
       "      <td>アニマルパニック</td>\n",
       "      <td>サメ</td>\n",
       "      <td>50</td>\n",
       "      <td>0</td>\n",
       "      <td>0</td>\n",
       "      <td>1</td>\n",
       "      <td>0</td>\n",
       "      <td>...</td>\n",
       "      <td>0</td>\n",
       "      <td>0</td>\n",
       "      <td>0</td>\n",
       "      <td>0</td>\n",
       "      <td>0</td>\n",
       "      <td>0</td>\n",
       "      <td>0</td>\n",
       "      <td>0</td>\n",
       "      <td>0</td>\n",
       "      <td>0</td>\n",
       "    </tr>\n",
       "    <tr>\n",
       "      <th>3</th>\n",
       "      <td>トリプルヘッド・ジョーズ</td>\n",
       "      <td>1</td>\n",
       "      <td>0</td>\n",
       "      <td>アニマルパニック</td>\n",
       "      <td>サメ</td>\n",
       "      <td>50</td>\n",
       "      <td>0</td>\n",
       "      <td>0</td>\n",
       "      <td>1</td>\n",
       "      <td>0</td>\n",
       "      <td>...</td>\n",
       "      <td>0</td>\n",
       "      <td>0</td>\n",
       "      <td>0</td>\n",
       "      <td>0</td>\n",
       "      <td>0</td>\n",
       "      <td>0</td>\n",
       "      <td>0</td>\n",
       "      <td>0</td>\n",
       "      <td>0</td>\n",
       "      <td>0</td>\n",
       "    </tr>\n",
       "    <tr>\n",
       "      <th>4</th>\n",
       "      <td>シャークネード</td>\n",
       "      <td>0</td>\n",
       "      <td>0</td>\n",
       "      <td>アニマルパニック</td>\n",
       "      <td>サメ</td>\n",
       "      <td>100</td>\n",
       "      <td>0</td>\n",
       "      <td>0</td>\n",
       "      <td>1</td>\n",
       "      <td>0</td>\n",
       "      <td>...</td>\n",
       "      <td>0</td>\n",
       "      <td>0</td>\n",
       "      <td>0</td>\n",
       "      <td>0</td>\n",
       "      <td>0</td>\n",
       "      <td>0</td>\n",
       "      <td>0</td>\n",
       "      <td>0</td>\n",
       "      <td>0</td>\n",
       "      <td>0</td>\n",
       "    </tr>\n",
       "  </tbody>\n",
       "</table>\n",
       "<p>5 rows × 23 columns</p>\n",
       "</div>"
      ],
      "text/plain": [
       "            映画名  つまらない  隊長つまらない      ジャンル  主演  出演人数（記憶&おおよそ）  SF  アクション  \\\n",
       "0          ジョーズ      0        0  アニマルパニック  サメ            100   0      0   \n",
       "1      ディープ・ブルー      0        0  アニマルパニック  サメ             20   0      0   \n",
       "2    パニック・マーケット      0        0  アニマルパニック  サメ             50   0      0   \n",
       "3  トリプルヘッド・ジョーズ      1        0  アニマルパニック  サメ             50   0      0   \n",
       "4       シャークネード      0        0  アニマルパニック  サメ            100   0      0   \n",
       "\n",
       "   アニマルパニック  ホラー ...  ドーナツ  ネコ  ヘビ  ワニ  人間  宇宙人  怪人  恐竜  悪魔  機械  \n",
       "0         1    0 ...     0   0   0   0   0    0   0   0   0   0  \n",
       "1         1    0 ...     0   0   0   0   0    0   0   0   0   0  \n",
       "2         1    0 ...     0   0   0   0   0    0   0   0   0   0  \n",
       "3         1    0 ...     0   0   0   0   0    0   0   0   0   0  \n",
       "4         1    0 ...     0   0   0   0   0    0   0   0   0   0  \n",
       "\n",
       "[5 rows x 23 columns]"
      ]
     },
     "execution_count": 5,
     "metadata": {},
     "output_type": "execute_result"
    }
   ],
   "source": [
    "_df.head()"
   ]
  },
  {
   "cell_type": "code",
   "execution_count": 6,
   "metadata": {},
   "outputs": [],
   "source": [
    "ignore_columns = ['映画名','つまらない','隊長つまらない','ジャンル','主演']"
   ]
  },
  {
   "cell_type": "code",
   "execution_count": 7,
   "metadata": {},
   "outputs": [],
   "source": [
    "x_names = _df.columns[~_df.columns.isin(ignore_columns)]"
   ]
  },
  {
   "cell_type": "code",
   "execution_count": 8,
   "metadata": {},
   "outputs": [],
   "source": [
    "from sklearn.model_selection import train_test_split\n",
    "from sklearn.metrics import classification_report\n",
    "from sklearn.tree import DecisionTreeClassifier, export_graphviz"
   ]
  },
  {
   "cell_type": "code",
   "execution_count": 9,
   "metadata": {},
   "outputs": [],
   "source": [
    "X_train, X_test, y_train, y_test = train_test_split(_df.loc[:, x_names], _df['つまらない'], test_size=0.4, random_state=71)"
   ]
  },
  {
   "cell_type": "code",
   "execution_count": 10,
   "metadata": {},
   "outputs": [
    {
     "data": {
      "text/plain": [
       "((18, 18), (18,))"
      ]
     },
     "execution_count": 10,
     "metadata": {},
     "output_type": "execute_result"
    }
   ],
   "source": [
    "X_train.shape, y_train.shape"
   ]
  },
  {
   "cell_type": "code",
   "execution_count": 11,
   "metadata": {},
   "outputs": [],
   "source": [
    "clf = DecisionTreeClassifier(min_samples_leaf=2, max_depth=10, random_state=71)"
   ]
  },
  {
   "cell_type": "code",
   "execution_count": 12,
   "metadata": {},
   "outputs": [
    {
     "data": {
      "text/plain": [
       "DecisionTreeClassifier(class_weight=None, criterion='gini', max_depth=10,\n",
       "            max_features=None, max_leaf_nodes=None,\n",
       "            min_impurity_decrease=0.0, min_impurity_split=None,\n",
       "            min_samples_leaf=2, min_samples_split=2,\n",
       "            min_weight_fraction_leaf=0.0, presort=False, random_state=71,\n",
       "            splitter='best')"
      ]
     },
     "execution_count": 12,
     "metadata": {},
     "output_type": "execute_result"
    }
   ],
   "source": [
    "clf.fit(X_train, y_train)"
   ]
  },
  {
   "cell_type": "code",
   "execution_count": 13,
   "metadata": {},
   "outputs": [
    {
     "name": "stdout",
     "output_type": "stream",
     "text": [
      "             precision    recall  f1-score   support\n",
      "\n",
      "          0       0.69      1.00      0.82         9\n",
      "          1       1.00      0.56      0.71         9\n",
      "\n",
      "avg / total       0.85      0.78      0.77        18\n",
      "\n"
     ]
    }
   ],
   "source": [
    "print(classification_report(y_train, clf.predict(X_train)))"
   ]
  },
  {
   "cell_type": "code",
   "execution_count": 14,
   "metadata": {},
   "outputs": [
    {
     "name": "stdout",
     "output_type": "stream",
     "text": [
      "             precision    recall  f1-score   support\n",
      "\n",
      "          0       0.40      1.00      0.57         4\n",
      "          1       1.00      0.25      0.40         8\n",
      "\n",
      "avg / total       0.80      0.50      0.46        12\n",
      "\n"
     ]
    }
   ],
   "source": [
    "print(classification_report(y_test, clf.predict(X_test)))"
   ]
  },
  {
   "cell_type": "code",
   "execution_count": 15,
   "metadata": {},
   "outputs": [],
   "source": [
    "import graphviz"
   ]
  },
  {
   "cell_type": "code",
   "execution_count": 16,
   "metadata": {},
   "outputs": [
    {
     "data": {
      "image/svg+xml": [
       "<?xml version=\"1.0\" encoding=\"UTF-8\" standalone=\"no\"?>\n",
       "<!DOCTYPE svg PUBLIC \"-//W3C//DTD SVG 1.1//EN\"\n",
       " \"http://www.w3.org/Graphics/SVG/1.1/DTD/svg11.dtd\">\n",
       "<!-- Generated by graphviz version 2.38.0 (20140413.2041)\n",
       " -->\n",
       "<!-- Title: Tree Pages: 1 -->\n",
       "<svg width=\"527pt\" height=\"685pt\"\n",
       " viewBox=\"0.00 0.00 526.50 685.00\" xmlns=\"http://www.w3.org/2000/svg\" xmlns:xlink=\"http://www.w3.org/1999/xlink\">\n",
       "<g id=\"graph0\" class=\"graph\" transform=\"scale(1 1) rotate(0) translate(4 681)\">\n",
       "<title>Tree</title>\n",
       "<polygon fill=\"white\" stroke=\"none\" points=\"-4,4 -4,-681 522.5,-681 522.5,4 -4,4\"/>\n",
       "<!-- 0 -->\n",
       "<g id=\"node1\" class=\"node\"><title>0</title>\n",
       "<path fill=\"none\" stroke=\"black\" d=\"M430.5,-677C430.5,-677 323.5,-677 323.5,-677 317.5,-677 311.5,-671 311.5,-665 311.5,-665 311.5,-621 311.5,-621 311.5,-615 317.5,-609 323.5,-609 323.5,-609 430.5,-609 430.5,-609 436.5,-609 442.5,-615 442.5,-621 442.5,-621 442.5,-665 442.5,-665 442.5,-671 436.5,-677 430.5,-677\"/>\n",
       "<text text-anchor=\"middle\" x=\"377\" y=\"-661.8\" font-family=\"Helvetica,sans-Serif\" font-size=\"14.00\">怪人 &lt;= 0.5</text>\n",
       "<text text-anchor=\"middle\" x=\"377\" y=\"-646.8\" font-family=\"Helvetica,sans-Serif\" font-size=\"14.00\">samples = 18</text>\n",
       "<text text-anchor=\"middle\" x=\"377\" y=\"-631.8\" font-family=\"Helvetica,sans-Serif\" font-size=\"14.00\">value = [9, 9]</text>\n",
       "<text text-anchor=\"middle\" x=\"377\" y=\"-616.8\" font-family=\"Helvetica,sans-Serif\" font-size=\"14.00\">class = おもしろい</text>\n",
       "</g>\n",
       "<!-- 1 -->\n",
       "<g id=\"node2\" class=\"node\"><title>1</title>\n",
       "<path fill=\"#399de5\" fill-opacity=\"0.223529\" stroke=\"black\" d=\"M357,-573C357,-573 247,-573 247,-573 241,-573 235,-567 235,-561 235,-561 235,-517 235,-517 235,-511 241,-505 247,-505 247,-505 357,-505 357,-505 363,-505 369,-511 369,-517 369,-517 369,-561 369,-561 369,-567 363,-573 357,-573\"/>\n",
       "<text text-anchor=\"middle\" x=\"302\" y=\"-557.8\" font-family=\"Helvetica,sans-Serif\" font-size=\"14.00\">SF &lt;= 0.5</text>\n",
       "<text text-anchor=\"middle\" x=\"302\" y=\"-542.8\" font-family=\"Helvetica,sans-Serif\" font-size=\"14.00\">samples = 16</text>\n",
       "<text text-anchor=\"middle\" x=\"302\" y=\"-527.8\" font-family=\"Helvetica,sans-Serif\" font-size=\"14.00\">value = [7, 9]</text>\n",
       "<text text-anchor=\"middle\" x=\"302\" y=\"-512.8\" font-family=\"Helvetica,sans-Serif\" font-size=\"14.00\">class = つまらない</text>\n",
       "</g>\n",
       "<!-- 0&#45;&gt;1 -->\n",
       "<g id=\"edge1\" class=\"edge\"><title>0&#45;&gt;1</title>\n",
       "<path fill=\"none\" stroke=\"black\" d=\"M352.65,-608.884C346.231,-600.154 339.224,-590.625 332.525,-581.514\"/>\n",
       "<polygon fill=\"black\" stroke=\"black\" points=\"335.229,-579.283 326.485,-573.299 329.589,-583.429 335.229,-579.283\"/>\n",
       "<text text-anchor=\"middle\" x=\"322.715\" y=\"-594.313\" font-family=\"Helvetica,sans-Serif\" font-size=\"14.00\">True</text>\n",
       "</g>\n",
       "<!-- 12 -->\n",
       "<g id=\"node13\" class=\"node\"><title>12</title>\n",
       "<path fill=\"#e58139\" stroke=\"black\" d=\"M506.5,-565.5C506.5,-565.5 399.5,-565.5 399.5,-565.5 393.5,-565.5 387.5,-559.5 387.5,-553.5 387.5,-553.5 387.5,-524.5 387.5,-524.5 387.5,-518.5 393.5,-512.5 399.5,-512.5 399.5,-512.5 506.5,-512.5 506.5,-512.5 512.5,-512.5 518.5,-518.5 518.5,-524.5 518.5,-524.5 518.5,-553.5 518.5,-553.5 518.5,-559.5 512.5,-565.5 506.5,-565.5\"/>\n",
       "<text text-anchor=\"middle\" x=\"453\" y=\"-550.3\" font-family=\"Helvetica,sans-Serif\" font-size=\"14.00\">samples = 2</text>\n",
       "<text text-anchor=\"middle\" x=\"453\" y=\"-535.3\" font-family=\"Helvetica,sans-Serif\" font-size=\"14.00\">value = [2, 0]</text>\n",
       "<text text-anchor=\"middle\" x=\"453\" y=\"-520.3\" font-family=\"Helvetica,sans-Serif\" font-size=\"14.00\">class = おもしろい</text>\n",
       "</g>\n",
       "<!-- 0&#45;&gt;12 -->\n",
       "<g id=\"edge12\" class=\"edge\"><title>0&#45;&gt;12</title>\n",
       "<path fill=\"none\" stroke=\"black\" d=\"M401.675,-608.884C410.033,-597.666 419.377,-585.126 427.777,-573.852\"/>\n",
       "<polygon fill=\"black\" stroke=\"black\" points=\"430.817,-575.63 433.985,-565.52 425.204,-571.448 430.817,-575.63\"/>\n",
       "<text text-anchor=\"middle\" x=\"437.598\" y=\"-586.557\" font-family=\"Helvetica,sans-Serif\" font-size=\"14.00\">False</text>\n",
       "</g>\n",
       "<!-- 2 -->\n",
       "<g id=\"node3\" class=\"node\"><title>2</title>\n",
       "<path fill=\"#399de5\" fill-opacity=\"0.498039\" stroke=\"black\" d=\"M291,-469C291,-469 143,-469 143,-469 137,-469 131,-463 131,-457 131,-457 131,-413 131,-413 131,-407 137,-401 143,-401 143,-401 291,-401 291,-401 297,-401 303,-407 303,-413 303,-413 303,-457 303,-457 303,-463 297,-469 291,-469\"/>\n",
       "<text text-anchor=\"middle\" x=\"217\" y=\"-453.8\" font-family=\"Helvetica,sans-Serif\" font-size=\"14.00\">アニマルパニック &lt;= 0.5</text>\n",
       "<text text-anchor=\"middle\" x=\"217\" y=\"-438.8\" font-family=\"Helvetica,sans-Serif\" font-size=\"14.00\">samples = 12</text>\n",
       "<text text-anchor=\"middle\" x=\"217\" y=\"-423.8\" font-family=\"Helvetica,sans-Serif\" font-size=\"14.00\">value = [4, 8]</text>\n",
       "<text text-anchor=\"middle\" x=\"217\" y=\"-408.8\" font-family=\"Helvetica,sans-Serif\" font-size=\"14.00\">class = つまらない</text>\n",
       "</g>\n",
       "<!-- 1&#45;&gt;2 -->\n",
       "<g id=\"edge2\" class=\"edge\"><title>1&#45;&gt;2</title>\n",
       "<path fill=\"none\" stroke=\"black\" d=\"M274.403,-504.884C267.054,-496.065 259.025,-486.43 251.363,-477.235\"/>\n",
       "<polygon fill=\"black\" stroke=\"black\" points=\"253.84,-474.741 244.749,-469.299 248.463,-479.222 253.84,-474.741\"/>\n",
       "</g>\n",
       "<!-- 11 -->\n",
       "<g id=\"node12\" class=\"node\"><title>11</title>\n",
       "<path fill=\"#e58139\" fill-opacity=\"0.666667\" stroke=\"black\" d=\"M440.5,-461.5C440.5,-461.5 333.5,-461.5 333.5,-461.5 327.5,-461.5 321.5,-455.5 321.5,-449.5 321.5,-449.5 321.5,-420.5 321.5,-420.5 321.5,-414.5 327.5,-408.5 333.5,-408.5 333.5,-408.5 440.5,-408.5 440.5,-408.5 446.5,-408.5 452.5,-414.5 452.5,-420.5 452.5,-420.5 452.5,-449.5 452.5,-449.5 452.5,-455.5 446.5,-461.5 440.5,-461.5\"/>\n",
       "<text text-anchor=\"middle\" x=\"387\" y=\"-446.3\" font-family=\"Helvetica,sans-Serif\" font-size=\"14.00\">samples = 4</text>\n",
       "<text text-anchor=\"middle\" x=\"387\" y=\"-431.3\" font-family=\"Helvetica,sans-Serif\" font-size=\"14.00\">value = [3, 1]</text>\n",
       "<text text-anchor=\"middle\" x=\"387\" y=\"-416.3\" font-family=\"Helvetica,sans-Serif\" font-size=\"14.00\">class = おもしろい</text>\n",
       "</g>\n",
       "<!-- 1&#45;&gt;11 -->\n",
       "<g id=\"edge11\" class=\"edge\"><title>1&#45;&gt;11</title>\n",
       "<path fill=\"none\" stroke=\"black\" d=\"M329.597,-504.884C339.037,-493.556 349.6,-480.88 359.066,-469.521\"/>\n",
       "<polygon fill=\"black\" stroke=\"black\" points=\"362.02,-471.443 365.733,-461.52 356.643,-466.962 362.02,-471.443\"/>\n",
       "</g>\n",
       "<!-- 3 -->\n",
       "<g id=\"node4\" class=\"node\"><title>3</title>\n",
       "<path fill=\"#399de5\" stroke=\"black\" d=\"M169,-357.5C169,-357.5 59,-357.5 59,-357.5 53,-357.5 47,-351.5 47,-345.5 47,-345.5 47,-316.5 47,-316.5 47,-310.5 53,-304.5 59,-304.5 59,-304.5 169,-304.5 169,-304.5 175,-304.5 181,-310.5 181,-316.5 181,-316.5 181,-345.5 181,-345.5 181,-351.5 175,-357.5 169,-357.5\"/>\n",
       "<text text-anchor=\"middle\" x=\"114\" y=\"-342.3\" font-family=\"Helvetica,sans-Serif\" font-size=\"14.00\">samples = 3</text>\n",
       "<text text-anchor=\"middle\" x=\"114\" y=\"-327.3\" font-family=\"Helvetica,sans-Serif\" font-size=\"14.00\">value = [0, 3]</text>\n",
       "<text text-anchor=\"middle\" x=\"114\" y=\"-312.3\" font-family=\"Helvetica,sans-Serif\" font-size=\"14.00\">class = つまらない</text>\n",
       "</g>\n",
       "<!-- 2&#45;&gt;3 -->\n",
       "<g id=\"edge3\" class=\"edge\"><title>2&#45;&gt;3</title>\n",
       "<path fill=\"none\" stroke=\"black\" d=\"M183.559,-400.884C171.898,-389.336 158.823,-376.387 147.183,-364.86\"/>\n",
       "<polygon fill=\"black\" stroke=\"black\" points=\"149.338,-362.07 139.77,-357.52 144.413,-367.043 149.338,-362.07\"/>\n",
       "</g>\n",
       "<!-- 4 -->\n",
       "<g id=\"node5\" class=\"node\"><title>4</title>\n",
       "<path fill=\"#399de5\" fill-opacity=\"0.200000\" stroke=\"black\" d=\"M429,-365C429,-365 211,-365 211,-365 205,-365 199,-359 199,-353 199,-353 199,-309 199,-309 199,-303 205,-297 211,-297 211,-297 429,-297 429,-297 435,-297 441,-303 441,-309 441,-309 441,-353 441,-353 441,-359 435,-365 429,-365\"/>\n",
       "<text text-anchor=\"middle\" x=\"320\" y=\"-349.8\" font-family=\"Helvetica,sans-Serif\" font-size=\"14.00\">出演人数（記憶&amp;おおよそ） &lt;= 25.0</text>\n",
       "<text text-anchor=\"middle\" x=\"320\" y=\"-334.8\" font-family=\"Helvetica,sans-Serif\" font-size=\"14.00\">samples = 9</text>\n",
       "<text text-anchor=\"middle\" x=\"320\" y=\"-319.8\" font-family=\"Helvetica,sans-Serif\" font-size=\"14.00\">value = [4, 5]</text>\n",
       "<text text-anchor=\"middle\" x=\"320\" y=\"-304.8\" font-family=\"Helvetica,sans-Serif\" font-size=\"14.00\">class = つまらない</text>\n",
       "</g>\n",
       "<!-- 2&#45;&gt;4 -->\n",
       "<g id=\"edge4\" class=\"edge\"><title>2&#45;&gt;4</title>\n",
       "<path fill=\"none\" stroke=\"black\" d=\"M250.441,-400.884C259.616,-391.798 269.666,-381.845 279.204,-372.4\"/>\n",
       "<polygon fill=\"black\" stroke=\"black\" points=\"281.731,-374.823 286.374,-365.299 276.806,-369.849 281.731,-374.823\"/>\n",
       "</g>\n",
       "<!-- 5 -->\n",
       "<g id=\"node6\" class=\"node\"><title>5</title>\n",
       "<path fill=\"#399de5\" fill-opacity=\"0.498039\" stroke=\"black\" d=\"M299,-261C299,-261 189,-261 189,-261 183,-261 177,-255 177,-249 177,-249 177,-205 177,-205 177,-199 183,-193 189,-193 189,-193 299,-193 299,-193 305,-193 311,-199 311,-205 311,-205 311,-249 311,-249 311,-255 305,-261 299,-261\"/>\n",
       "<text text-anchor=\"middle\" x=\"244\" y=\"-245.8\" font-family=\"Helvetica,sans-Serif\" font-size=\"14.00\">ワニ &lt;= 0.5</text>\n",
       "<text text-anchor=\"middle\" x=\"244\" y=\"-230.8\" font-family=\"Helvetica,sans-Serif\" font-size=\"14.00\">samples = 6</text>\n",
       "<text text-anchor=\"middle\" x=\"244\" y=\"-215.8\" font-family=\"Helvetica,sans-Serif\" font-size=\"14.00\">value = [2, 4]</text>\n",
       "<text text-anchor=\"middle\" x=\"244\" y=\"-200.8\" font-family=\"Helvetica,sans-Serif\" font-size=\"14.00\">class = つまらない</text>\n",
       "</g>\n",
       "<!-- 4&#45;&gt;5 -->\n",
       "<g id=\"edge5\" class=\"edge\"><title>4&#45;&gt;5</title>\n",
       "<path fill=\"none\" stroke=\"black\" d=\"M295.325,-296.884C288.821,-288.154 281.72,-278.625 274.932,-269.514\"/>\n",
       "<polygon fill=\"black\" stroke=\"black\" points=\"277.593,-267.227 268.811,-261.299 271.98,-271.409 277.593,-267.227\"/>\n",
       "</g>\n",
       "<!-- 10 -->\n",
       "<g id=\"node11\" class=\"node\"><title>10</title>\n",
       "<path fill=\"#e58139\" fill-opacity=\"0.498039\" stroke=\"black\" d=\"M448.5,-253.5C448.5,-253.5 341.5,-253.5 341.5,-253.5 335.5,-253.5 329.5,-247.5 329.5,-241.5 329.5,-241.5 329.5,-212.5 329.5,-212.5 329.5,-206.5 335.5,-200.5 341.5,-200.5 341.5,-200.5 448.5,-200.5 448.5,-200.5 454.5,-200.5 460.5,-206.5 460.5,-212.5 460.5,-212.5 460.5,-241.5 460.5,-241.5 460.5,-247.5 454.5,-253.5 448.5,-253.5\"/>\n",
       "<text text-anchor=\"middle\" x=\"395\" y=\"-238.3\" font-family=\"Helvetica,sans-Serif\" font-size=\"14.00\">samples = 3</text>\n",
       "<text text-anchor=\"middle\" x=\"395\" y=\"-223.3\" font-family=\"Helvetica,sans-Serif\" font-size=\"14.00\">value = [2, 1]</text>\n",
       "<text text-anchor=\"middle\" x=\"395\" y=\"-208.3\" font-family=\"Helvetica,sans-Serif\" font-size=\"14.00\">class = おもしろい</text>\n",
       "</g>\n",
       "<!-- 4&#45;&gt;10 -->\n",
       "<g id=\"edge10\" class=\"edge\"><title>4&#45;&gt;10</title>\n",
       "<path fill=\"none\" stroke=\"black\" d=\"M344.35,-296.884C352.599,-285.666 361.819,-273.126 370.109,-261.852\"/>\n",
       "<polygon fill=\"black\" stroke=\"black\" points=\"373.131,-263.65 376.235,-253.52 367.492,-259.503 373.131,-263.65\"/>\n",
       "</g>\n",
       "<!-- 6 -->\n",
       "<g id=\"node7\" class=\"node\"><title>6</title>\n",
       "<path fill=\"#399de5\" fill-opacity=\"0.666667\" stroke=\"black\" d=\"M251,-157C251,-157 33,-157 33,-157 27,-157 21,-151 21,-145 21,-145 21,-101 21,-101 21,-95 27,-89 33,-89 33,-89 251,-89 251,-89 257,-89 263,-95 263,-101 263,-101 263,-145 263,-145 263,-151 257,-157 251,-157\"/>\n",
       "<text text-anchor=\"middle\" x=\"142\" y=\"-141.8\" font-family=\"Helvetica,sans-Serif\" font-size=\"14.00\">出演人数（記憶&amp;おおよそ） &lt;= 15.0</text>\n",
       "<text text-anchor=\"middle\" x=\"142\" y=\"-126.8\" font-family=\"Helvetica,sans-Serif\" font-size=\"14.00\">samples = 4</text>\n",
       "<text text-anchor=\"middle\" x=\"142\" y=\"-111.8\" font-family=\"Helvetica,sans-Serif\" font-size=\"14.00\">value = [1, 3]</text>\n",
       "<text text-anchor=\"middle\" x=\"142\" y=\"-96.8\" font-family=\"Helvetica,sans-Serif\" font-size=\"14.00\">class = つまらない</text>\n",
       "</g>\n",
       "<!-- 5&#45;&gt;6 -->\n",
       "<g id=\"edge6\" class=\"edge\"><title>5&#45;&gt;6</title>\n",
       "<path fill=\"none\" stroke=\"black\" d=\"M210.884,-192.884C201.798,-183.798 191.845,-173.845 182.4,-164.4\"/>\n",
       "<polygon fill=\"black\" stroke=\"black\" points=\"184.845,-161.896 175.299,-157.299 179.896,-166.845 184.845,-161.896\"/>\n",
       "</g>\n",
       "<!-- 9 -->\n",
       "<g id=\"node10\" class=\"node\"><title>9</title>\n",
       "<path fill=\"none\" stroke=\"black\" d=\"M400.5,-149.5C400.5,-149.5 293.5,-149.5 293.5,-149.5 287.5,-149.5 281.5,-143.5 281.5,-137.5 281.5,-137.5 281.5,-108.5 281.5,-108.5 281.5,-102.5 287.5,-96.5 293.5,-96.5 293.5,-96.5 400.5,-96.5 400.5,-96.5 406.5,-96.5 412.5,-102.5 412.5,-108.5 412.5,-108.5 412.5,-137.5 412.5,-137.5 412.5,-143.5 406.5,-149.5 400.5,-149.5\"/>\n",
       "<text text-anchor=\"middle\" x=\"347\" y=\"-134.3\" font-family=\"Helvetica,sans-Serif\" font-size=\"14.00\">samples = 2</text>\n",
       "<text text-anchor=\"middle\" x=\"347\" y=\"-119.3\" font-family=\"Helvetica,sans-Serif\" font-size=\"14.00\">value = [1, 1]</text>\n",
       "<text text-anchor=\"middle\" x=\"347\" y=\"-104.3\" font-family=\"Helvetica,sans-Serif\" font-size=\"14.00\">class = おもしろい</text>\n",
       "</g>\n",
       "<!-- 5&#45;&gt;9 -->\n",
       "<g id=\"edge9\" class=\"edge\"><title>5&#45;&gt;9</title>\n",
       "<path fill=\"none\" stroke=\"black\" d=\"M277.441,-192.884C289.102,-181.336 302.177,-168.387 313.817,-156.86\"/>\n",
       "<polygon fill=\"black\" stroke=\"black\" points=\"316.587,-159.043 321.23,-149.52 311.662,-154.07 316.587,-159.043\"/>\n",
       "</g>\n",
       "<!-- 7 -->\n",
       "<g id=\"node8\" class=\"node\"><title>7</title>\n",
       "<path fill=\"#399de5\" stroke=\"black\" d=\"M122,-53C122,-53 12,-53 12,-53 6,-53 0,-47 0,-41 0,-41 0,-12 0,-12 0,-6 6,-0 12,-0 12,-0 122,-0 122,-0 128,-0 134,-6 134,-12 134,-12 134,-41 134,-41 134,-47 128,-53 122,-53\"/>\n",
       "<text text-anchor=\"middle\" x=\"67\" y=\"-37.8\" font-family=\"Helvetica,sans-Serif\" font-size=\"14.00\">samples = 2</text>\n",
       "<text text-anchor=\"middle\" x=\"67\" y=\"-22.8\" font-family=\"Helvetica,sans-Serif\" font-size=\"14.00\">value = [0, 2]</text>\n",
       "<text text-anchor=\"middle\" x=\"67\" y=\"-7.8\" font-family=\"Helvetica,sans-Serif\" font-size=\"14.00\">class = つまらない</text>\n",
       "</g>\n",
       "<!-- 6&#45;&gt;7 -->\n",
       "<g id=\"edge7\" class=\"edge\"><title>6&#45;&gt;7</title>\n",
       "<path fill=\"none\" stroke=\"black\" d=\"M115.769,-88.9485C108.654,-79.9834 100.942,-70.2666 93.796,-61.2629\"/>\n",
       "<polygon fill=\"black\" stroke=\"black\" points=\"96.3841,-58.8938 87.426,-53.2367 90.9011,-63.2454 96.3841,-58.8938\"/>\n",
       "</g>\n",
       "<!-- 8 -->\n",
       "<g id=\"node9\" class=\"node\"><title>8</title>\n",
       "<path fill=\"none\" stroke=\"black\" d=\"M271.5,-53C271.5,-53 164.5,-53 164.5,-53 158.5,-53 152.5,-47 152.5,-41 152.5,-41 152.5,-12 152.5,-12 152.5,-6 158.5,-0 164.5,-0 164.5,-0 271.5,-0 271.5,-0 277.5,-0 283.5,-6 283.5,-12 283.5,-12 283.5,-41 283.5,-41 283.5,-47 277.5,-53 271.5,-53\"/>\n",
       "<text text-anchor=\"middle\" x=\"218\" y=\"-37.8\" font-family=\"Helvetica,sans-Serif\" font-size=\"14.00\">samples = 2</text>\n",
       "<text text-anchor=\"middle\" x=\"218\" y=\"-22.8\" font-family=\"Helvetica,sans-Serif\" font-size=\"14.00\">value = [1, 1]</text>\n",
       "<text text-anchor=\"middle\" x=\"218\" y=\"-7.8\" font-family=\"Helvetica,sans-Serif\" font-size=\"14.00\">class = おもしろい</text>\n",
       "</g>\n",
       "<!-- 6&#45;&gt;8 -->\n",
       "<g id=\"edge8\" class=\"edge\"><title>6&#45;&gt;8</title>\n",
       "<path fill=\"none\" stroke=\"black\" d=\"M168.581,-88.9485C175.791,-79.9834 183.606,-70.2666 190.847,-61.2629\"/>\n",
       "<polygon fill=\"black\" stroke=\"black\" points=\"193.762,-63.2228 197.302,-53.2367 188.307,-58.8358 193.762,-63.2228\"/>\n",
       "</g>\n",
       "</g>\n",
       "</svg>\n"
      ],
      "text/plain": [
       "<graphviz.files.Source at 0x7f3b04a01be0>"
      ]
     },
     "execution_count": 16,
     "metadata": {},
     "output_type": "execute_result"
    }
   ],
   "source": [
    "# tree.dotという名前で分析結果を出力\n",
    "export_graphviz(clf, out_file='tree.dot',\n",
    "    feature_names=x_names,\n",
    "    class_names=['おもしろい','つまらない'],\n",
    "    filled=True, rounded=True, impurity=False)\n",
    " \n",
    " \n",
    "# tree.dotファイルを可視化\n",
    "with open('tree.dot') as f:\n",
    "    dot_graph = f.read()\n",
    " \n",
    "graphviz.Source(dot_graph)"
   ]
  },
  {
   "cell_type": "code",
   "execution_count": 17,
   "metadata": {},
   "outputs": [],
   "source": [
    "_test_df = pd.concat([X_test, y_test], axis=1)"
   ]
  },
  {
   "cell_type": "code",
   "execution_count": 18,
   "metadata": {},
   "outputs": [],
   "source": [
    "_test_df.loc[:, 'predicted'] = clf.predict(X_test)"
   ]
  },
  {
   "cell_type": "code",
   "execution_count": 19,
   "metadata": {},
   "outputs": [],
   "source": [
    "proba = clf.predict_proba(X_test)\n",
    "a_df = pd.DataFrame(proba, columns=['proba_おもしろい','proba_つまらない']).reset_index(drop=True)"
   ]
  },
  {
   "cell_type": "code",
   "execution_count": 20,
   "metadata": {},
   "outputs": [],
   "source": [
    "test_df = pd.concat([_test_df.reset_index(drop=True), a_df], axis=1)\n",
    "test_df.index = _test_df.index"
   ]
  },
  {
   "cell_type": "code",
   "execution_count": 21,
   "metadata": {},
   "outputs": [
    {
     "data": {
      "text/html": [
       "<div>\n",
       "<style scoped>\n",
       "    .dataframe tbody tr th:only-of-type {\n",
       "        vertical-align: middle;\n",
       "    }\n",
       "\n",
       "    .dataframe tbody tr th {\n",
       "        vertical-align: top;\n",
       "    }\n",
       "\n",
       "    .dataframe thead th {\n",
       "        text-align: right;\n",
       "    }\n",
       "</style>\n",
       "<table border=\"1\" class=\"dataframe\">\n",
       "  <thead>\n",
       "    <tr style=\"text-align: right;\">\n",
       "      <th></th>\n",
       "      <th>出演人数（記憶&amp;おおよそ）</th>\n",
       "      <th>SF</th>\n",
       "      <th>アクション</th>\n",
       "      <th>アニマルパニック</th>\n",
       "      <th>ホラー</th>\n",
       "      <th>もみの木</th>\n",
       "      <th>キノコ</th>\n",
       "      <th>サメ</th>\n",
       "      <th>ドーナツ</th>\n",
       "      <th>ネコ</th>\n",
       "      <th>...</th>\n",
       "      <th>人間</th>\n",
       "      <th>宇宙人</th>\n",
       "      <th>怪人</th>\n",
       "      <th>恐竜</th>\n",
       "      <th>悪魔</th>\n",
       "      <th>機械</th>\n",
       "      <th>つまらない</th>\n",
       "      <th>predicted</th>\n",
       "      <th>proba_おもしろい</th>\n",
       "      <th>proba_つまらない</th>\n",
       "    </tr>\n",
       "  </thead>\n",
       "  <tbody>\n",
       "    <tr>\n",
       "      <th>12</th>\n",
       "      <td>50</td>\n",
       "      <td>0</td>\n",
       "      <td>0</td>\n",
       "      <td>1</td>\n",
       "      <td>0</td>\n",
       "      <td>0</td>\n",
       "      <td>0</td>\n",
       "      <td>0</td>\n",
       "      <td>0</td>\n",
       "      <td>0</td>\n",
       "      <td>...</td>\n",
       "      <td>0</td>\n",
       "      <td>0</td>\n",
       "      <td>0</td>\n",
       "      <td>0</td>\n",
       "      <td>0</td>\n",
       "      <td>0</td>\n",
       "      <td>0</td>\n",
       "      <td>0</td>\n",
       "      <td>0.666667</td>\n",
       "      <td>0.333333</td>\n",
       "    </tr>\n",
       "    <tr>\n",
       "      <th>20</th>\n",
       "      <td>10</td>\n",
       "      <td>0</td>\n",
       "      <td>0</td>\n",
       "      <td>0</td>\n",
       "      <td>1</td>\n",
       "      <td>0</td>\n",
       "      <td>0</td>\n",
       "      <td>0</td>\n",
       "      <td>0</td>\n",
       "      <td>1</td>\n",
       "      <td>...</td>\n",
       "      <td>0</td>\n",
       "      <td>0</td>\n",
       "      <td>0</td>\n",
       "      <td>0</td>\n",
       "      <td>0</td>\n",
       "      <td>0</td>\n",
       "      <td>1</td>\n",
       "      <td>1</td>\n",
       "      <td>0.000000</td>\n",
       "      <td>1.000000</td>\n",
       "    </tr>\n",
       "    <tr>\n",
       "      <th>4</th>\n",
       "      <td>100</td>\n",
       "      <td>0</td>\n",
       "      <td>0</td>\n",
       "      <td>1</td>\n",
       "      <td>0</td>\n",
       "      <td>0</td>\n",
       "      <td>0</td>\n",
       "      <td>1</td>\n",
       "      <td>0</td>\n",
       "      <td>0</td>\n",
       "      <td>...</td>\n",
       "      <td>0</td>\n",
       "      <td>0</td>\n",
       "      <td>0</td>\n",
       "      <td>0</td>\n",
       "      <td>0</td>\n",
       "      <td>0</td>\n",
       "      <td>0</td>\n",
       "      <td>0</td>\n",
       "      <td>0.666667</td>\n",
       "      <td>0.333333</td>\n",
       "    </tr>\n",
       "    <tr>\n",
       "      <th>26</th>\n",
       "      <td>10</td>\n",
       "      <td>0</td>\n",
       "      <td>0</td>\n",
       "      <td>0</td>\n",
       "      <td>1</td>\n",
       "      <td>0</td>\n",
       "      <td>1</td>\n",
       "      <td>0</td>\n",
       "      <td>0</td>\n",
       "      <td>0</td>\n",
       "      <td>...</td>\n",
       "      <td>0</td>\n",
       "      <td>0</td>\n",
       "      <td>0</td>\n",
       "      <td>0</td>\n",
       "      <td>0</td>\n",
       "      <td>0</td>\n",
       "      <td>1</td>\n",
       "      <td>1</td>\n",
       "      <td>0.000000</td>\n",
       "      <td>1.000000</td>\n",
       "    </tr>\n",
       "    <tr>\n",
       "      <th>7</th>\n",
       "      <td>30</td>\n",
       "      <td>0</td>\n",
       "      <td>0</td>\n",
       "      <td>1</td>\n",
       "      <td>0</td>\n",
       "      <td>0</td>\n",
       "      <td>0</td>\n",
       "      <td>1</td>\n",
       "      <td>0</td>\n",
       "      <td>0</td>\n",
       "      <td>...</td>\n",
       "      <td>0</td>\n",
       "      <td>0</td>\n",
       "      <td>0</td>\n",
       "      <td>0</td>\n",
       "      <td>0</td>\n",
       "      <td>0</td>\n",
       "      <td>1</td>\n",
       "      <td>0</td>\n",
       "      <td>0.666667</td>\n",
       "      <td>0.333333</td>\n",
       "    </tr>\n",
       "    <tr>\n",
       "      <th>3</th>\n",
       "      <td>50</td>\n",
       "      <td>0</td>\n",
       "      <td>0</td>\n",
       "      <td>1</td>\n",
       "      <td>0</td>\n",
       "      <td>0</td>\n",
       "      <td>0</td>\n",
       "      <td>1</td>\n",
       "      <td>0</td>\n",
       "      <td>0</td>\n",
       "      <td>...</td>\n",
       "      <td>0</td>\n",
       "      <td>0</td>\n",
       "      <td>0</td>\n",
       "      <td>0</td>\n",
       "      <td>0</td>\n",
       "      <td>0</td>\n",
       "      <td>1</td>\n",
       "      <td>0</td>\n",
       "      <td>0.666667</td>\n",
       "      <td>0.333333</td>\n",
       "    </tr>\n",
       "    <tr>\n",
       "      <th>15</th>\n",
       "      <td>30</td>\n",
       "      <td>1</td>\n",
       "      <td>0</td>\n",
       "      <td>0</td>\n",
       "      <td>0</td>\n",
       "      <td>0</td>\n",
       "      <td>0</td>\n",
       "      <td>0</td>\n",
       "      <td>1</td>\n",
       "      <td>0</td>\n",
       "      <td>...</td>\n",
       "      <td>0</td>\n",
       "      <td>0</td>\n",
       "      <td>0</td>\n",
       "      <td>0</td>\n",
       "      <td>0</td>\n",
       "      <td>0</td>\n",
       "      <td>1</td>\n",
       "      <td>0</td>\n",
       "      <td>0.750000</td>\n",
       "      <td>0.250000</td>\n",
       "    </tr>\n",
       "    <tr>\n",
       "      <th>2</th>\n",
       "      <td>50</td>\n",
       "      <td>0</td>\n",
       "      <td>0</td>\n",
       "      <td>1</td>\n",
       "      <td>0</td>\n",
       "      <td>0</td>\n",
       "      <td>0</td>\n",
       "      <td>1</td>\n",
       "      <td>0</td>\n",
       "      <td>0</td>\n",
       "      <td>...</td>\n",
       "      <td>0</td>\n",
       "      <td>0</td>\n",
       "      <td>0</td>\n",
       "      <td>0</td>\n",
       "      <td>0</td>\n",
       "      <td>0</td>\n",
       "      <td>0</td>\n",
       "      <td>0</td>\n",
       "      <td>0.666667</td>\n",
       "      <td>0.333333</td>\n",
       "    </tr>\n",
       "    <tr>\n",
       "      <th>10</th>\n",
       "      <td>20</td>\n",
       "      <td>0</td>\n",
       "      <td>0</td>\n",
       "      <td>1</td>\n",
       "      <td>0</td>\n",
       "      <td>0</td>\n",
       "      <td>0</td>\n",
       "      <td>0</td>\n",
       "      <td>0</td>\n",
       "      <td>0</td>\n",
       "      <td>...</td>\n",
       "      <td>0</td>\n",
       "      <td>0</td>\n",
       "      <td>0</td>\n",
       "      <td>0</td>\n",
       "      <td>0</td>\n",
       "      <td>0</td>\n",
       "      <td>0</td>\n",
       "      <td>0</td>\n",
       "      <td>0.500000</td>\n",
       "      <td>0.500000</td>\n",
       "    </tr>\n",
       "    <tr>\n",
       "      <th>5</th>\n",
       "      <td>20</td>\n",
       "      <td>0</td>\n",
       "      <td>0</td>\n",
       "      <td>1</td>\n",
       "      <td>0</td>\n",
       "      <td>0</td>\n",
       "      <td>0</td>\n",
       "      <td>1</td>\n",
       "      <td>0</td>\n",
       "      <td>0</td>\n",
       "      <td>...</td>\n",
       "      <td>0</td>\n",
       "      <td>0</td>\n",
       "      <td>0</td>\n",
       "      <td>0</td>\n",
       "      <td>0</td>\n",
       "      <td>0</td>\n",
       "      <td>1</td>\n",
       "      <td>0</td>\n",
       "      <td>0.500000</td>\n",
       "      <td>0.500000</td>\n",
       "    </tr>\n",
       "    <tr>\n",
       "      <th>14</th>\n",
       "      <td>30</td>\n",
       "      <td>1</td>\n",
       "      <td>0</td>\n",
       "      <td>0</td>\n",
       "      <td>0</td>\n",
       "      <td>0</td>\n",
       "      <td>0</td>\n",
       "      <td>0</td>\n",
       "      <td>0</td>\n",
       "      <td>0</td>\n",
       "      <td>...</td>\n",
       "      <td>0</td>\n",
       "      <td>0</td>\n",
       "      <td>0</td>\n",
       "      <td>0</td>\n",
       "      <td>0</td>\n",
       "      <td>0</td>\n",
       "      <td>1</td>\n",
       "      <td>0</td>\n",
       "      <td>0.750000</td>\n",
       "      <td>0.250000</td>\n",
       "    </tr>\n",
       "    <tr>\n",
       "      <th>19</th>\n",
       "      <td>10</td>\n",
       "      <td>1</td>\n",
       "      <td>0</td>\n",
       "      <td>0</td>\n",
       "      <td>0</td>\n",
       "      <td>0</td>\n",
       "      <td>0</td>\n",
       "      <td>0</td>\n",
       "      <td>0</td>\n",
       "      <td>0</td>\n",
       "      <td>...</td>\n",
       "      <td>0</td>\n",
       "      <td>0</td>\n",
       "      <td>0</td>\n",
       "      <td>1</td>\n",
       "      <td>0</td>\n",
       "      <td>0</td>\n",
       "      <td>1</td>\n",
       "      <td>0</td>\n",
       "      <td>0.750000</td>\n",
       "      <td>0.250000</td>\n",
       "    </tr>\n",
       "  </tbody>\n",
       "</table>\n",
       "<p>12 rows × 22 columns</p>\n",
       "</div>"
      ],
      "text/plain": [
       "    出演人数（記憶&おおよそ）  SF  アクション  アニマルパニック  ホラー  もみの木  キノコ  サメ  ドーナツ  ネコ  \\\n",
       "12             50   0      0         1    0     0    0   0     0   0   \n",
       "20             10   0      0         0    1     0    0   0     0   1   \n",
       "4             100   0      0         1    0     0    0   1     0   0   \n",
       "26             10   0      0         0    1     0    1   0     0   0   \n",
       "7              30   0      0         1    0     0    0   1     0   0   \n",
       "3              50   0      0         1    0     0    0   1     0   0   \n",
       "15             30   1      0         0    0     0    0   0     1   0   \n",
       "2              50   0      0         1    0     0    0   1     0   0   \n",
       "10             20   0      0         1    0     0    0   0     0   0   \n",
       "5              20   0      0         1    0     0    0   1     0   0   \n",
       "14             30   1      0         0    0     0    0   0     0   0   \n",
       "19             10   1      0         0    0     0    0   0     0   0   \n",
       "\n",
       "       ...       人間  宇宙人  怪人  恐竜  悪魔  機械  つまらない  predicted  proba_おもしろい  \\\n",
       "12     ...        0    0   0   0   0   0      0          0     0.666667   \n",
       "20     ...        0    0   0   0   0   0      1          1     0.000000   \n",
       "4      ...        0    0   0   0   0   0      0          0     0.666667   \n",
       "26     ...        0    0   0   0   0   0      1          1     0.000000   \n",
       "7      ...        0    0   0   0   0   0      1          0     0.666667   \n",
       "3      ...        0    0   0   0   0   0      1          0     0.666667   \n",
       "15     ...        0    0   0   0   0   0      1          0     0.750000   \n",
       "2      ...        0    0   0   0   0   0      0          0     0.666667   \n",
       "10     ...        0    0   0   0   0   0      0          0     0.500000   \n",
       "5      ...        0    0   0   0   0   0      1          0     0.500000   \n",
       "14     ...        0    0   0   0   0   0      1          0     0.750000   \n",
       "19     ...        0    0   0   1   0   0      1          0     0.750000   \n",
       "\n",
       "    proba_つまらない  \n",
       "12     0.333333  \n",
       "20     1.000000  \n",
       "4      0.333333  \n",
       "26     1.000000  \n",
       "7      0.333333  \n",
       "3      0.333333  \n",
       "15     0.250000  \n",
       "2      0.333333  \n",
       "10     0.500000  \n",
       "5      0.500000  \n",
       "14     0.250000  \n",
       "19     0.250000  \n",
       "\n",
       "[12 rows x 22 columns]"
      ]
     },
     "execution_count": 21,
     "metadata": {},
     "output_type": "execute_result"
    }
   ],
   "source": [
    "test_df"
   ]
  },
  {
   "cell_type": "code",
   "execution_count": 22,
   "metadata": {},
   "outputs": [
    {
     "data": {
      "text/plain": [
       "12    0\n",
       "20    0\n",
       "4     0\n",
       "26    0\n",
       "7     0\n",
       "3     0\n",
       "15    0\n",
       "2     0\n",
       "10    0\n",
       "5     0\n",
       "14    0\n",
       "19    0\n",
       "Name: 怪人, dtype: uint8"
      ]
     },
     "execution_count": 22,
     "metadata": {},
     "output_type": "execute_result"
    }
   ],
   "source": [
    "test_df['怪人']"
   ]
  },
  {
   "cell_type": "code",
   "execution_count": 23,
   "metadata": {},
   "outputs": [
    {
     "data": {
      "image/png": "[encoded data removed]",
      "text/plain": [
       "<Figure size 720x360 with 1 Axes>"
      ]
     },
     "metadata": {
      "needs_background": "light"
     },
     "output_type": "display_data"
    }
   ],
   "source": [
    "con = test_df['つまらない'] == test_df['predicted']\n",
    "\n",
    "_, ax = plt.subplots(figsize=(10, 5))\n",
    "test_df.loc[con, ['proba_おもしろい','proba_つまらない']].plot.kde(ax=ax)\n",
    "ax.set_xlim(-0.2, 1.2)\n",
    "ax.set_ylim(0, 1.2)\n",
    "plt.show()"
   ]
  },
  {
   "cell_type": "code",
   "execution_count": 24,
   "metadata": {},
   "outputs": [
    {
     "data": {
      "image/png": "[encoded data removed]",
      "text/plain": [
       "<Figure size 720x360 with 1 Axes>"
      ]
     },
     "metadata": {
      "needs_background": "light"
     },
     "output_type": "display_data"
    }
   ],
   "source": [
    "con = test_df['つまらない'] == test_df['predicted']\n",
    "\n",
    "_, ax = plt.subplots(figsize=(10, 5))\n",
    "test_df.loc[con, ['proba_おもしろい','proba_つまらない']].plot.hist(bins=50, ax=ax)\n",
    "ax.set_xlim(-0.2, 1.2)\n",
    "# ax.set_ylim(0, 1.2)\n",
    "plt.show()"
   ]
  },
  {
   "cell_type": "code",
   "execution_count": null,
   "metadata": {},
   "outputs": [],
   "source": []
  },
  {
   "cell_type": "markdown",
   "metadata": {},
   "source": [
    "# 自分で書いたコードで試す"
   ]
  },
  {
   "cell_type": "code",
   "execution_count": 25,
   "metadata": {},
   "outputs": [],
   "source": [
    "import sys\n",
    "sys.path.append('../')"
   ]
  },
  {
   "cell_type": "code",
   "execution_count": 26,
   "metadata": {},
   "outputs": [],
   "source": [
    "from tree import DecisionTree"
   ]
  },
  {
   "cell_type": "code",
   "execution_count": 27,
   "metadata": {},
   "outputs": [],
   "source": [
    "s_tree = DecisionTree(max_depth=2)"
   ]
  },
  {
   "cell_type": "code",
   "execution_count": 28,
   "metadata": {},
   "outputs": [],
   "source": [
    "_df.columns\n",
    "_x_names = ['サメ']\n",
    "_X_train = np.array(X_train[_x_names])\n",
    "_X_test = np.array(X_test[_x_names])"
   ]
  },
  {
   "cell_type": "code",
   "execution_count": 29,
   "metadata": {},
   "outputs": [
    {
     "name": "stdout",
     "output_type": "stream",
     "text": [
      "0.5\n"
     ]
    }
   ],
   "source": [
    "s_tree.fit(_X_train, y_train)"
   ]
  },
  {
   "cell_type": "code",
   "execution_count": 30,
   "metadata": {},
   "outputs": [
    {
     "name": "stdout",
     "output_type": "stream",
     "text": [
      "             precision    recall  f1-score   support\n",
      "\n",
      "          0       0.54      0.78      0.64         9\n",
      "          1       0.60      0.33      0.43         9\n",
      "\n",
      "avg / total       0.57      0.56      0.53        18\n",
      "\n"
     ]
    }
   ],
   "source": [
    "print(classification_report(y_train, s_tree.predict(_X_train)))"
   ]
  },
  {
   "cell_type": "code",
   "execution_count": 31,
   "metadata": {},
   "outputs": [
    {
     "name": "stdout",
     "output_type": "stream",
     "text": [
      "             precision    recall  f1-score   support\n",
      "\n",
      "          0       0.29      0.50      0.36         4\n",
      "          1       0.60      0.38      0.46         8\n",
      "\n",
      "avg / total       0.50      0.42      0.43        12\n",
      "\n"
     ]
    }
   ],
   "source": [
    "print(classification_report(y_test, s_tree.predict(_X_test)))"
   ]
  },
  {
   "cell_type": "code",
   "execution_count": 32,
   "metadata": {},
   "outputs": [
    {
     "data": {
      "text/plain": [
       "{'left': {'label': 0, 'data_count': 13, 'name': 'name_0.8053423034439823'},\n",
       " 'right': {'label': 1, 'data_count': 5, 'name': 'name_0.9925901061998168'},\n",
       " 'data_count': 18,\n",
       " 'name': 'name_0.628638852903784'}"
      ]
     },
     "execution_count": 32,
     "metadata": {},
     "output_type": "execute_result"
    }
   ],
   "source": [
    "a = s_tree.root.get_tree_info()\n",
    "a"
   ]
  },
  {
   "cell_type": "code",
   "execution_count": 33,
   "metadata": {},
   "outputs": [
    {
     "data": {
      "text/plain": [
       "{'label': 0, 'data_count': 13, 'name': 'name_0.8053423034439823'}"
      ]
     },
     "execution_count": 33,
     "metadata": {},
     "output_type": "execute_result"
    }
   ],
   "source": [
    "a['left']"
   ]
  },
  {
   "cell_type": "code",
   "execution_count": 34,
   "metadata": {},
   "outputs": [
    {
     "data": {
      "text/plain": [
       "0.5"
      ]
     },
     "execution_count": 34,
     "metadata": {},
     "output_type": "execute_result"
    }
   ],
   "source": [
    "s_tree.root.threshold"
   ]
  },
  {
   "cell_type": "code",
   "execution_count": 35,
   "metadata": {},
   "outputs": [
    {
     "data": {
      "text/plain": [
       "[0, 0, 1, 0, 1, 1, 0, 1, 0, 1, 0, 0]"
      ]
     },
     "execution_count": 35,
     "metadata": {},
     "output_type": "execute_result"
    }
   ],
   "source": [
    "s_tree.predict(_X_test)"
   ]
  },
  {
   "cell_type": "code",
   "execution_count": 36,
   "metadata": {},
   "outputs": [
    {
     "data": {
      "text/plain": [
       "0"
      ]
     },
     "execution_count": 36,
     "metadata": {},
     "output_type": "execute_result"
    }
   ],
   "source": [
    "s_tree.root.x"
   ]
  },
  {
   "cell_type": "code",
   "execution_count": 40,
   "metadata": {},
   "outputs": [],
   "source": [
    "_x = _X_test\n",
    "out = np.zeros([_x.shape[0], len(s_tree.root.labels)])\n",
    "for i in range(_x.shape[0]):\n",
    "    _node = s_tree.root\n",
    "    while _node.left is not None:\n",
    "        if _x[i, _node.x] < _node.threshold:\n",
    "            _node = _node.left\n",
    "        else:\n",
    "            _node = _node.right\n",
    "        \n",
    "    if _node.x is None:\n",
    "        out[i, :] = _node.count_by_label"
   ]
  },
  {
   "cell_type": "code",
   "execution_count": 41,
   "metadata": {},
   "outputs": [
    {
     "data": {
      "text/plain": [
       "array([[7., 6.],\n",
       "       [7., 6.],\n",
       "       [2., 3.],\n",
       "       [7., 6.],\n",
       "       [2., 3.],\n",
       "       [2., 3.],\n",
       "       [7., 6.],\n",
       "       [2., 3.],\n",
       "       [7., 6.],\n",
       "       [2., 3.],\n",
       "       [7., 6.],\n",
       "       [7., 6.]])"
      ]
     },
     "execution_count": 41,
     "metadata": {},
     "output_type": "execute_result"
    }
   ],
   "source": [
    "out"
   ]
  },
  {
   "cell_type": "code",
   "execution_count": 43,
   "metadata": {},
   "outputs": [],
   "source": [
    "normalizer =  out.sum(axis=1)[:, np.newaxis]"
   ]
  },
  {
   "cell_type": "code",
   "execution_count": 44,
   "metadata": {},
   "outputs": [
    {
     "data": {
      "text/plain": [
       "array([[13.],\n",
       "       [13.],\n",
       "       [ 5.],\n",
       "       [13.],\n",
       "       [ 5.],\n",
       "       [ 5.],\n",
       "       [13.],\n",
       "       [ 5.],\n",
       "       [13.],\n",
       "       [ 5.],\n",
       "       [13.],\n",
       "       [13.]])"
      ]
     },
     "execution_count": 44,
     "metadata": {},
     "output_type": "execute_result"
    }
   ],
   "source": [
    "normalizer"
   ]
  },
  {
   "cell_type": "code",
   "execution_count": 45,
   "metadata": {},
   "outputs": [],
   "source": [
    "normalizer[normalizer == 0.0] = 1.0"
   ]
  },
  {
   "cell_type": "code",
   "execution_count": 46,
   "metadata": {},
   "outputs": [],
   "source": [
    "out /= normalizer"
   ]
  },
  {
   "cell_type": "code",
   "execution_count": 47,
   "metadata": {},
   "outputs": [
    {
     "data": {
      "text/plain": [
       "array([[0.53846154, 0.46153846],\n",
       "       [0.53846154, 0.46153846],\n",
       "       [0.4       , 0.6       ],\n",
       "       [0.53846154, 0.46153846],\n",
       "       [0.4       , 0.6       ],\n",
       "       [0.4       , 0.6       ],\n",
       "       [0.53846154, 0.46153846],\n",
       "       [0.4       , 0.6       ],\n",
       "       [0.53846154, 0.46153846],\n",
       "       [0.4       , 0.6       ],\n",
       "       [0.53846154, 0.46153846],\n",
       "       [0.53846154, 0.46153846]])"
      ]
     },
     "execution_count": 47,
     "metadata": {},
     "output_type": "execute_result"
    }
   ],
   "source": [
    "out"
   ]
  },
  {
   "cell_type": "code",
   "execution_count": 63,
   "metadata": {},
   "outputs": [
    {
     "name": "stdout",
     "output_type": "stream",
     "text": [
      "0\n"
     ]
    }
   ],
   "source": [
    "clf = DecisionTreeClassifier(min_samples_leaf=1, max_depth=10, random_state=71)"
   ]
  },
  {
   "cell_type": "code",
   "execution_count": null,
   "metadata": {},
   "outputs": [],
   "source": []
  }
 ],
 "metadata": {
  "kernelspec": {
   "display_name": "Python 3",
   "language": "python",
   "name": "python3"
  },
  "language_info": {
   "codemirror_mode": {
    "name": "ipython",
    "version": 3
   },
   "file_extension": ".py",
   "mimetype": "text/x-python",
   "name": "python",
   "nbconvert_exporter": "python",
   "pygments_lexer": "ipython3",
   "version": "3.7.0"
  }
 },
 "nbformat": 4,
 "nbformat_minor": 2
}
